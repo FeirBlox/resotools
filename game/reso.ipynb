{
 "cells": [
  {
   "cell_type": "code",
   "execution_count": 1,
   "metadata": {},
   "outputs": [
    {
     "name": "stderr",
     "output_type": "stream",
     "text": [
      "\u001b[32m2024-03-30 19:16:09.912\u001b[0m | \u001b[31m\u001b[1mERROR   \u001b[0m | \u001b[36mresotools.utils.CommonUtils\u001b[0m:\u001b[36mmakedirs\u001b[0m:\u001b[36m182\u001b[0m - \u001b[31m\u001b[1m目录:json/ 已存在\u001b[0m\n"
     ]
    },
    {
     "name": "stdout",
     "output_type": "stream",
     "text": [
      "['7号自由港', '修格里城', '岚心城', '曼德矿场', '沃德镇', '海角城', '淘金乐园', '澄明数据中心', '荒原站', '贡露城', '铁盟哨站', '阿妮塔发射中心', '阿妮塔战备工厂', '阿妮塔能源研究所']\n"
     ]
    }
   ],
   "source": [
    "from resotools.game.ResoGoodsCal import *\n",
    "\n",
    "A = ResoGoodsCal()\n",
    "A.testgoodinfo()\n",
    "\n",
    "print(A.cityNames)"
   ]
  },
  {
   "cell_type": "code",
   "execution_count": null,
   "metadata": {},
   "outputs": [],
   "source": []
  }
 ],
 "metadata": {
  "kernelspec": {
   "display_name": "autoscripts",
   "language": "python",
   "name": "python3"
  },
  "language_info": {
   "codemirror_mode": {
    "name": "ipython",
    "version": 3
   },
   "file_extension": ".py",
   "mimetype": "text/x-python",
   "name": "python",
   "nbconvert_exporter": "python",
   "pygments_lexer": "ipython3",
   "version": "3.11.8"
  }
 },
 "nbformat": 4,
 "nbformat_minor": 2
}
